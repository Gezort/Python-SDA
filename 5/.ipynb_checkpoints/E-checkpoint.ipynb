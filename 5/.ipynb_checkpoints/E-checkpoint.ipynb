{
 "cells": [
  {
   "cell_type": "code",
   "execution_count": 1,
   "metadata": {
    "collapsed": true
   },
   "outputs": [],
   "source": [
    "from html.parser import HTMLParser\n",
    "from urllib.request import urlopen"
   ]
  },
  {
   "cell_type": "code",
   "execution_count": 2,
   "metadata": {
    "collapsed": true
   },
   "outputs": [],
   "source": [
    "def normalize(url, ref):\n",
    "    if ref.startswith('http'):\n",
    "        with urlopen(ref) as connection:\n",
    "            return connection.geturl()\n",
    "    elif ref.startswith('./'):\n",
    "        with urlopen(url + ref[2:]) as connection:\n",
    "            return connection.geturl()\n",
    "    #else url starts with '/'\n",
    "    url_splitten = url.split('/')[:3]\n",
    "    url_splitten.append(ref[1:])\n",
    "    ref = '/'.join(url_splitten)\n",
    "    with urlopen(ref) as connection:\n",
    "            return connection.geturl()"
   ]
  },
  {
   "cell_type": "code",
   "execution_count": 3,
   "metadata": {
    "collapsed": false
   },
   "outputs": [],
   "source": [
    "class PageParser(HTMLParser):\n",
    "    def __init__(self, url, graph):\n",
    "        HTMLParser.__init__(self)\n",
    "        self.refs = graph\n",
    "        self.url = url\n",
    "        graph[url] = set()\n",
    "        \n",
    "    def handle_starttag(self, tag, attrs):\n",
    "        attrs = dict(attrs)\n",
    "        if tag == 'a' and 'href' in attrs:\n",
    "            try:\n",
    "                ref = attrs['href']\n",
    "                if ref.startswith(self.url) or ref.startswith('/') or ref.startswith('./'):\n",
    "                    ref = normalize(self.url, ref)\n",
    "                    self.refs[self.url].add(ref)\n",
    "            except Exception as e:\n",
    "                print (type(e).__name__  + ' occured while parsing refference %s' % attrs['href'])\n",
    "                raise\n",
    "            \n",
    "    def handle_endtag(self, tag):\n",
    "        pass\n",
    "\n",
    "    def handle_data(self, data):\n",
    "        pass"
   ]
  },
  {
   "cell_type": "code",
   "execution_count": 4,
   "metadata": {
    "collapsed": false
   },
   "outputs": [],
   "source": [
    "def parse_url(url, graph, encoding):\n",
    "    with urlopen(url) as connection:\n",
    "        page = connection.read().decode(encoding)\n",
    "        parser = PageParser(connection.geturl(), graph)\n",
    "        parser.feed(page)"
   ]
  },
  {
   "cell_type": "code",
   "execution_count": 5,
   "metadata": {
    "collapsed": true
   },
   "outputs": [],
   "source": [
    "def parse_site(url, graph, parsed, encoding, depth=100):\n",
    "    if depth <= 0:\n",
    "        return\n",
    "    parsed.add(url)\n",
    "    print (url)\n",
    "    %%time parse_url(url, graph, encoding)\n",
    "    for ref in graph[url]:\n",
    "        if not ref in parsed:\n",
    "            parse_site(ref, graph, parsed, encoding, depth=depth - 1)"
   ]
  },
  {
   "cell_type": "code",
   "execution_count": 6,
   "metadata": {
    "collapsed": false
   },
   "outputs": [
    {
     "name": "stdout",
     "output_type": "stream",
     "text": [
      "http://www.64chess.com/\n",
      "CPU times: user 33.3 ms, sys: 6.67 ms, total: 40 ms\n",
      "Wall time: 275 ms\n",
      "http://www.64chess.com/GuestBook/index.php\n",
      "CPU times: user 26.7 ms, sys: 3.33 ms, total: 30 ms\n",
      "Wall time: 257 ms\n",
      "http://www.64chess.com/Humor.html\n",
      "CPU times: user 50 ms, sys: 6.67 ms, total: 56.7 ms\n",
      "Wall time: 644 ms\n",
      "http://www.64chess.com/Humor/Tartokover.html\n",
      "CPU times: user 13.3 ms, sys: 0 ns, total: 13.3 ms\n",
      "Wall time: 36 ms\n",
      "http://www.64chess.com/Links.html\n",
      "CPU times: user 10 ms, sys: 0 ns, total: 10 ms\n",
      "Wall time: 33.4 ms\n",
      "http://www.64chess.com/Games.html\n",
      "CPU times: user 10 ms, sys: 0 ns, total: 10 ms\n",
      "Wall time: 41 ms\n",
      "http://www.64chess.com/Theory.html\n",
      "CPU times: user 16.7 ms, sys: 0 ns, total: 16.7 ms\n",
      "Wall time: 36.8 ms\n",
      "http://www.64chess.com/index.html\n",
      "CPU times: user 30 ms, sys: 0 ns, total: 30 ms\n",
      "Wall time: 65.3 ms\n",
      "http://www.64chess.com/Autor.html\n",
      "CPU times: user 6.67 ms, sys: 0 ns, total: 6.67 ms\n",
      "Wall time: 24.9 ms\n",
      "http://www.64chess.com/Humor/History.html\n",
      "CPU times: user 10 ms, sys: 3.33 ms, total: 13.3 ms\n",
      "Wall time: 38.1 ms\n",
      "http://www.64chess.com/Humor/Averbax.html\n",
      "CPU times: user 16.7 ms, sys: 0 ns, total: 16.7 ms\n",
      "Wall time: 41.5 ms\n",
      "http://www.64chess.com/Compozite.html\n",
      "CPU times: user 16.7 ms, sys: 0 ns, total: 16.7 ms\n",
      "Wall time: 44.3 ms\n",
      "http://www.64chess.com/Humor/Cases.html\n",
      "CPU times: user 13.3 ms, sys: 0 ns, total: 13.3 ms\n",
      "Wall time: 39.1 ms\n",
      "http://www.64chess.com/Champions.html\n",
      "CPU times: user 23.3 ms, sys: 3.33 ms, total: 26.7 ms\n",
      "Wall time: 65.5 ms\n",
      "==================================\n",
      "http://anytask.org/\n",
      "CPU times: user 43.3 ms, sys: 0 ns, total: 43.3 ms\n",
      "Wall time: 2.21 s\n",
      "http://anytask.org/accounts/login/?next=/school/shpya\n",
      "CPU times: user 10 ms, sys: 3.33 ms, total: 13.3 ms\n",
      "Wall time: 594 ms\n",
      "http://anytask.org/accounts/password/reset/\n",
      "CPU times: user 6.67 ms, sys: 3.33 ms, total: 10 ms\n",
      "Wall time: 465 ms\n",
      "http://anytask.org/accounts/login/\n",
      "CPU times: user 10 ms, sys: 6.67 ms, total: 16.7 ms\n",
      "Wall time: 597 ms\n",
      "http://anytask.org/accounts/register/\n",
      "CPU times: user 16.7 ms, sys: 0 ns, total: 16.7 ms\n",
      "Wall time: 504 ms\n",
      "http://anytask.org/accounts/login/?next=/school/urfu\n",
      "CPU times: user 16.7 ms, sys: 0 ns, total: 16.7 ms\n",
      "Wall time: 591 ms\n",
      "http://anytask.org/accounts/login/?next=/school/mipt\n",
      "CPU times: user 20 ms, sys: 0 ns, total: 20 ms\n",
      "Wall time: 588 ms\n",
      "http://anytask.org/accounts/login/?next=/school/shad\n",
      "CPU times: user 20 ms, sys: 0 ns, total: 20 ms\n",
      "Wall time: 569 ms\n",
      "http://anytask.org/accounts/login/?next=/school/msu\n",
      "CPU times: user 16.7 ms, sys: 0 ns, total: 16.7 ms\n",
      "Wall time: 591 ms\n",
      "http://anytask.org/accounts/login/?next=/school/bsu\n",
      "CPU times: user 20 ms, sys: 0 ns, total: 20 ms\n",
      "Wall time: 628 ms\n",
      "http://anytask.org/accounts/login/?next=/school/hse\n",
      "CPU times: user 20 ms, sys: 3.33 ms, total: 23.3 ms\n",
      "Wall time: 613 ms\n"
     ]
    }
   ],
   "source": [
    "chess = dict()\n",
    "parsed = set()\n",
    "parse_site('http://www.64chess.com/', chess, parsed, 'koi8-r')\n",
    "print ('==================================')\n",
    "anytask = dict()\n",
    "parsed = set()\n",
    "parse_site('http://anytask.org/', anytask, parsed, 'utf-8')"
   ]
  },
  {
   "cell_type": "code",
   "execution_count": 16,
   "metadata": {
    "collapsed": true
   },
   "outputs": [],
   "source": [
    "def PR(graph, eps=0.0001):\n",
    "    pr = dict()\n",
    "    n_urls = len(graph)\n",
    "    for url in graph:\n",
    "        pr[url] = 1. / n_urls\n",
    "    diff = eps * 10\n",
    "    while diff > eps:\n",
    "        new_pr = dict()\n",
    "        for url in graph:\n",
    "            new_pr[url] = 0.\n",
    "        for url in graph:\n",
    "            n_children = len(graph[url]) + 1\n",
    "            for child in graph[url]:\n",
    "                new_pr[child] += pr[url] / n_children\n",
    "            new_pr[url] += pr[url] / n_children\n",
    "        diff = 0\n",
    "        for url in graph:\n",
    "            diff += abs(new_pr[url] - pr[url])\n",
    "        pr = new_pr.copy()\n",
    "    return pr"
   ]
  },
  {
   "cell_type": "code",
   "execution_count": 18,
   "metadata": {
    "collapsed": false
   },
   "outputs": [],
   "source": [
    "chess_pr = PR(chess)\n",
    "anytask_pr = PR(anytask)"
   ]
  },
  {
   "cell_type": "code",
   "execution_count": 28,
   "metadata": {
    "collapsed": false
   },
   "outputs": [
    {
     "name": "stdout",
     "output_type": "stream",
     "text": [
      "url: http://www.64chess.com/GuestBook/index.php PR: 0.00%\n",
      "url: http://www.64chess.com/Humor/Tartokover.html PR: 7.89%\n",
      "url: http://www.64chess.com/Autor.html PR: 9.77%\n",
      "url: http://www.64chess.com/Humor.html PR: 0.00%\n",
      "url: http://www.64chess.com/Games.html PR: 9.77%\n",
      "url: http://www.64chess.com/index.html PR: 19.55%\n",
      "url: http://www.64chess.com/Humor/Averbax.html PR: 7.89%\n",
      "url: http://www.64chess.com/Champions.html PR: 0.00%\n",
      "url: http://www.64chess.com/Compozite.html PR: 9.77%\n",
      "url: http://www.64chess.com/Humor/Cases.html PR: 7.89%\n",
      "url: http://www.64chess.com/Humor/History.html PR: 7.89%\n",
      "url: http://www.64chess.com/Links.html PR: 9.77%\n",
      "url: http://www.64chess.com/Theory.html PR: 9.77%\n",
      "url: http://www.64chess.com/ PR: 0.00%\n"
     ]
    }
   ],
   "source": [
    "for url in chess_pr:\n",
    "    print ('url: %s PR: %.2f%%' % (url, 100 * chess_pr[url]))"
   ]
  },
  {
   "cell_type": "code",
   "execution_count": 29,
   "metadata": {
    "collapsed": false
   },
   "outputs": [
    {
     "name": "stdout",
     "output_type": "stream",
     "text": [
      "url: http://anytask.org/accounts/login/?next=/school/shpya PR: 2.44%\n",
      "url: http://anytask.org/accounts/login/?next=/school/urfu PR: 2.44%\n",
      "url: http://anytask.org/accounts/login/?next=/school/mipt PR: 2.44%\n",
      "url: http://anytask.org/accounts/login/ PR: 24.39%\n",
      "url: http://anytask.org/accounts/login/?next=/school/shad PR: 2.44%\n",
      "url: http://anytask.org/accounts/login/?next=/school/msu PR: 2.44%\n",
      "url: http://anytask.org/accounts/login/?next=/school/bsu PR: 2.44%\n",
      "url: http://anytask.org/ PR: 21.46%\n",
      "url: http://anytask.org/accounts/password/reset/ PR: 11.06%\n",
      "url: http://anytask.org/accounts/login/?next=/school/hse PR: 2.44%\n",
      "url: http://anytask.org/accounts/register/ PR: 26.02%\n"
     ]
    }
   ],
   "source": [
    "for url in anytask_pr:\n",
    "    print ('url: %s PR: %.2f%%' % (url, 100 * anytask_pr[url]))"
   ]
  }
 ],
 "metadata": {
  "kernelspec": {
   "display_name": "Python 3",
   "language": "python",
   "name": "python3"
  },
  "language_info": {
   "codemirror_mode": {
    "name": "ipython",
    "version": 3
   },
   "file_extension": ".py",
   "mimetype": "text/x-python",
   "name": "python",
   "nbconvert_exporter": "python",
   "pygments_lexer": "ipython3",
   "version": "3.5.1"
  }
 },
 "nbformat": 4,
 "nbformat_minor": 0
}
