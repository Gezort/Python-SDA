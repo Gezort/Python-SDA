{
 "cells": [
  {
   "cell_type": "code",
   "execution_count": 1,
   "metadata": {
    "collapsed": false
   },
   "outputs": [],
   "source": [
    "from page_parser import *"
   ]
  },
  {
   "cell_type": "code",
   "execution_count": 2,
   "metadata": {
    "collapsed": false
   },
   "outputs": [
    {
     "name": "stdout",
     "output_type": "stream",
     "text": [
      "parsing http://anytask.org/\n",
      "parsing http://anytask.org/school/mipt\n",
      "parsing http://anytask.org/school/msu\n",
      "parsing http://anytask.org/school/bsu\n",
      "parsing http://anytask.org/accounts/login/\n",
      "parsing http://anytask.org/school/hse\n",
      "parsing http://anytask.org/school/shad\n",
      "parsing http://anytask.org/accounts/register/\n",
      "parsing http://anytask.org/school/shpya\n",
      "parsing http://anytask.org/school/urfu\n",
      "parsing http://anytask.org/accounts/password/reset/\n"
     ]
    }
   ],
   "source": [
    "chess = dict()\n",
    "parse_site('http://www.64chess.com/', chess)\n",
    "anytask = dict()\n",
    "parse_site('http://anytask.org/', anytask, verbose=True)"
   ]
  },
  {
   "cell_type": "code",
   "execution_count": 3,
   "metadata": {
    "collapsed": true
   },
   "outputs": [],
   "source": [
    "from page_rank import PR"
   ]
  },
  {
   "cell_type": "code",
   "execution_count": 4,
   "metadata": {
    "collapsed": false
   },
   "outputs": [],
   "source": [
    "chess_pr = PR(chess, damping_factor=0.15, eps=1e-5)\n",
    "anytask_pr = PR(anytask, damping_factor=0.15, eps=1e-5)"
   ]
  },
  {
   "cell_type": "code",
   "execution_count": 9,
   "metadata": {
    "collapsed": true
   },
   "outputs": [],
   "source": [
    "def print_pr(pr):\n",
    "    for url in pr:\n",
    "        print ('url: %s PR: %.2f%%' % (url, 100 * pr[url]))\n",
    "        \n",
    "def print_num_pages(graph):\n",
    "    links = set()\n",
    "    for url in graph:\n",
    "        for ref in graph[url]:\n",
    "            links.add(ref)\n",
    "    print ('num_pages: %d, num_links: %d' % (len(graph.keys()), len(links)))"
   ]
  },
  {
   "cell_type": "code",
   "execution_count": 10,
   "metadata": {
    "collapsed": false
   },
   "outputs": [
    {
     "name": "stdout",
     "output_type": "stream",
     "text": [
      "url: http://anytask.org/school/mipt PR: 3.73%\n",
      "url: http://anytask.org/school/msu PR: 3.73%\n",
      "url: http://anytask.org/accounts/password/reset/ PR: 12.86%\n",
      "url: http://anytask.org/school/urfu PR: 3.73%\n",
      "url: http://anytask.org/school/bsu PR: 3.73%\n",
      "url: http://anytask.org/accounts/login/ PR: 20.35%\n",
      "url: http://anytask.org/school/shad PR: 3.73%\n",
      "url: http://anytask.org/accounts/register/ PR: 20.35%\n",
      "url: http://anytask.org/school/shpya PR: 3.73%\n",
      "url: http://anytask.org/school/hse PR: 3.73%\n",
      "url: http://anytask.org/ PR: 20.35%\n"
     ]
    }
   ],
   "source": [
    "print_pr(anytask_pr)"
   ]
  },
  {
   "cell_type": "code",
   "execution_count": 11,
   "metadata": {
    "collapsed": false
   },
   "outputs": [
    {
     "name": "stdout",
     "output_type": "stream",
     "text": [
      "num_pages: 11, num_links: 11\n"
     ]
    }
   ],
   "source": [
    "print_num_pages(anytask)"
   ]
  },
  {
   "cell_type": "code",
   "execution_count": 6,
   "metadata": {
    "collapsed": true
   },
   "outputs": [],
   "source": [
    "from visualizer import *"
   ]
  },
  {
   "cell_type": "code",
   "execution_count": 8,
   "metadata": {
    "collapsed": false
   },
   "outputs": [],
   "source": [
    "visualize(anytask, anytask_pr, name='anytask')"
   ]
  }
 ],
 "metadata": {
  "kernelspec": {
   "display_name": "Python 3",
   "language": "python",
   "name": "python3"
  },
  "language_info": {
   "codemirror_mode": {
    "name": "ipython",
    "version": 3
   },
   "file_extension": ".py",
   "mimetype": "text/x-python",
   "name": "python",
   "nbconvert_exporter": "python",
   "pygments_lexer": "ipython3",
   "version": "3.5.1"
  }
 },
 "nbformat": 4,
 "nbformat_minor": 0
}
